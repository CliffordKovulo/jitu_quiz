{
 "cells": [
  {
   "cell_type": "markdown",
   "metadata": {},
   "source": [
    "# Design a function that reverses the digits of an integer. For example, 50\n",
    "# should become 5 and -12 should become -21."
   ]
  },
  {
   "cell_type": "code",
   "execution_count": 5,
   "metadata": {},
   "outputs": [
    {
     "name": "stdout",
     "output_type": "stream",
     "text": [
      "Reversed number 50:  5\n",
      "Reversed number -12:  -21\n"
     ]
    }
   ],
   "source": [
    "def reverseDigits(digit):\n",
    "\n",
    "    #determine the sign of the number\n",
    "    sign = -1 if digit < 0 else 1\n",
    "\n",
    "    #set the digit in to its absolute value\n",
    "    digit = abs(digit)\n",
    "\n",
    "    #convert the digit in to a string reverse it and convert it to an integer agin\n",
    "    reversed_digit = int(str(digit)[::-1])\n",
    "\n",
    "    # return the sign of the number\n",
    "    return sign * reversed_digit\n",
    "\n",
    "#the numbers to be reversed\n",
    "print('Reversed number 50: ',reverseDigits(50))\n",
    "print('Reversed number -12: ',reverseDigits(-12))"
   ]
  },
  {
   "cell_type": "markdown",
   "metadata": {},
   "source": [
    "# Write a recursive function to calculate the factorial of a number"
   ]
  },
  {
   "cell_type": "code",
   "execution_count": 6,
   "metadata": {},
   "outputs": [
    {
     "name": "stdout",
     "output_type": "stream",
     "text": [
      "The factorial of 10 is:  3628800\n",
      "The factorial of 0 is:  1\n"
     ]
    }
   ],
   "source": [
    "def factorial(number):\n",
    "\n",
    "    #define the factorial of 0 and 1\n",
    "    if number == 0 or number == 1:\n",
    "        return 1\n",
    "    \n",
    "    #the recursive equarion\n",
    "    return number * factorial(number - 1)\n",
    "\n",
    "#print of the factorials of 10 and 0\n",
    "print('The factorial of 10 is: ', factorial(10))\n",
    "print('The factorial of 0 is: ', factorial(0))"
   ]
  },
  {
   "cell_type": "markdown",
   "metadata": {},
   "source": [
    "# Design a function that takes a string or sequence of characters as input and\n",
    "# returns the character that appears most frequently.\n",
    "# //Eg 11189 => '1'\n",
    "# //hello => l\n"
   ]
  },
  {
   "cell_type": "code",
   "execution_count": 9,
   "metadata": {},
   "outputs": [
    {
     "name": "stdout",
     "output_type": "stream",
     "text": [
      "The most frequqent character in 11189 is:  1\n",
      "The most frequent character in HELLO is:  L\n"
     ]
    }
   ],
   "source": [
    "def most_frequent_char(freq):\n",
    "    from collections import Counter\n",
    "\n",
    "    #counting the frequency of each character\n",
    "    count = Counter(freq)\n",
    "\n",
    "    #finding the character that is appearing more frequently\n",
    "    most_frequent = max(count, key=count.get)\n",
    "\n",
    "    return most_frequent\n",
    "\n",
    "#print the most frequent character\n",
    "print('The most frequqent character in 11189 is: ', most_frequent_char('11189'))\n",
    "print('The most frequent character in HELLO is: ', most_frequent_char('HELLO'))"
   ]
  },
  {
   "cell_type": "markdown",
   "metadata": {},
   "source": [
    "# Design a function that determines whether a given string is a pangram. A\n",
    "# pangram is a sentence or phrase containing every letter of the alphabet at\n",
    "# least once. Punctuation and case are typically ignored. For example, the\n",
    "# string \"The quick brown fox jumps over the lazy dog\" is a pangram, while\n",
    "# \"Hello, world!\" is not.\n"
   ]
  },
  {
   "cell_type": "code",
   "execution_count": 16,
   "metadata": {},
   "outputs": [
    {
     "name": "stdout",
     "output_type": "stream",
     "text": [
      "Is 'The quick brown fox jumps over the lazy dog' a pangram:  True\n",
      "Is 'Hello, world!' a pangram:  False\n"
     ]
    }
   ],
   "source": [
    "def pangram(sentence):\n",
    "    \n",
    "    #set all the letters of the alphabet in to a variable\n",
    "    alphabet = set(\"abcdefghijklmnopqrstuvwxyz\")\n",
    "\n",
    "    #convert the sentence to lower case and create a set of characters\n",
    "    sentence = set(sentence.lower())\n",
    "\n",
    "    #check if the alphabet is the subset of the string set for the sentence\n",
    "    return alphabet <= sentence\n",
    "\n",
    "#printing some test cases\n",
    "print(\"Is 'The quick brown fox jumps over the lazy dog' a pangram: \", pangram('The quick brown fox jumps over the lazy dog'))\n",
    "print(\"Is 'Hello, world!' a pangram: \", pangram('Hello, world!'))"
   ]
  },
  {
   "cell_type": "markdown",
   "metadata": {},
   "source": [
    "# Design a function that takes a list of integers as input. The function should\n",
    "# return True if the list contains two consecutive threes (3 next to a 3) anywhere\n",
    "# within the list. Otherwise, it should return False. For example, the function\n",
    "# should return True for [1, 3, 3] and False for [1, 3, 1, 3].\n"
   ]
  },
  {
   "cell_type": "code",
   "execution_count": 17,
   "metadata": {},
   "outputs": [
    {
     "name": "stdout",
     "output_type": "stream",
     "text": [
      "Does  [1, 3, 3] have consecutive 3s':  True\n",
      "Does [1, 3, 1, 3] have consecutive 3s':  False\n"
     ]
    }
   ],
   "source": [
    "def adjacent_threes(number):\n",
    "\n",
    "    #iterate through the number and stop one number towards the end\n",
    "    for i in range (len(number) -1):\n",
    "\n",
    "        #checking if the current number and the next number are both 3\n",
    "        if number[i] == 3 and number[i+1] == 3:\n",
    "            return True\n",
    "    return False\n",
    "\n",
    "#Some test cases to show the working of this\n",
    "print('Does  [1, 3, 3] have consecutive 3s\\': ', adjacent_threes( [1, 3, 3]))\n",
    "print('Does [1, 3, 1, 3] have consecutive 3s\\': ', adjacent_threes([1, 3, 1, 3]))"
   ]
  },
  {
   "cell_type": "markdown",
   "metadata": {},
   "source": [
    "# Master Yoda, a renowned Jedi Master from the Star Wars universe, is known for his unique way of speaking. He often reverses the order of words in his sentences. For example, instead of saying \"I am home\" he might say \"Home am I\" Design a function that takes a sentence as input and returns a new sentence with the words reversed in the same order that Master Yoda would use."
   ]
  },
  {
   "cell_type": "code",
   "execution_count": 20,
   "metadata": {},
   "outputs": [
    {
     "name": "stdout",
     "output_type": "stream",
     "text": [
      "The sentence 'I am home' will be reversed to:  homeamI\n",
      "The sentence 'Hello there' will be reversed to:  thereHello\n"
     ]
    }
   ],
   "source": [
    "def master_yoda_speach(sentence):\n",
    "\n",
    "    #splitting the sentence in to words\n",
    "    words = sentence.split()\n",
    "\n",
    "    #Reversing the order of the words\n",
    "    reversed_sentence = ''.join(words[::-1])\n",
    "\n",
    "    return reversed_sentence\n",
    "\n",
    "#some test cases to show the working of the code\n",
    "print(\"The sentence 'I am home' will be reversed to: \", master_yoda_speach(\"I am home\"))\n",
    "print(\"The sentence 'Hello there' will be reversed to: \", master_yoda_speach(\"Hello there\"))"
   ]
  }
 ],
 "metadata": {
  "kernelspec": {
   "display_name": "Python 3",
   "language": "python",
   "name": "python3"
  },
  "language_info": {
   "codemirror_mode": {
    "name": "ipython",
    "version": 3
   },
   "file_extension": ".py",
   "mimetype": "text/x-python",
   "name": "python",
   "nbconvert_exporter": "python",
   "pygments_lexer": "ipython3",
   "version": "3.12.4"
  }
 },
 "nbformat": 4,
 "nbformat_minor": 2
}
